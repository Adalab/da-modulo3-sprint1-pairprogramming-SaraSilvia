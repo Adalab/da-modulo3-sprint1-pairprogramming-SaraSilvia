{
 "cells": [
  {
   "cell_type": "code",
   "execution_count": 1,
   "metadata": {},
   "outputs": [],
   "source": [
    "# antes de empezar importamos la librería de NumPy para poder trabajar con todos sus métodos. \n",
    "import numpy as np"
   ]
  },
  {
   "cell_type": "markdown",
   "metadata": {},
   "source": [
    "## Creación y Indexación:"
   ]
  },
  {
   "cell_type": "markdown",
   "metadata": {},
   "source": [
    "1. Crea un array 1D con 50 valores aleatorio del 10 al 99. Accede a los elementos en las posiciones múltiplos de 5."
   ]
  },
  {
   "cell_type": "code",
   "execution_count": 9,
   "metadata": {},
   "outputs": [
    {
     "name": "stdout",
     "output_type": "stream",
     "text": [
      "[81 16 27 50 29 46 51 63 62 87 99 29 13 79 83 98 27 33 77 26 54 28 54 33\n",
      " 36 32 59 47 74 88 92 98 85 86 49 76 71 74 70 43 73 27 48 14 97 23 83 68\n",
      " 41 17]\n",
      "------------\n",
      "[29 87 83 26 36 88 49 43 97 17]\n",
      "------------\n",
      "[46 99 98 54 32 92 76 73 23]\n"
     ]
    }
   ],
   "source": [
    "ej_1=np.random.randint(10,100,50)\n",
    "print(ej_1)\n",
    "print('------------')\n",
    "#No estamos seguras de si se refiere a empezar en el índice 5 o la quinta posición empezando desde el 0\n",
    "print(ej_1[4::5])\n",
    "print('------------')\n",
    "print(ej_1[5::5])"
   ]
  },
  {
   "cell_type": "markdown",
   "metadata": {},
   "source": [
    "2. Crea un array 1D con 30 valores del 1 al 20 (ambos incluidos). Utiliza indexación para obtener los elementos en las posiciones impares"
   ]
  },
  {
   "cell_type": "code",
   "execution_count": 10,
   "metadata": {},
   "outputs": [
    {
     "name": "stdout",
     "output_type": "stream",
     "text": [
      "[ 3 20 18 20  4 20 15  9  3  5  2  4  1  1  7 11  6 13 17  5 19  9  8  4\n",
      " 15  4 15  2  2  2]\n",
      "------------\n",
      "[ 3 18  4 15  3  2  1  7  6 17 19  8 15 15  2]\n",
      "------------\n",
      "[20 20 20  9  5  4  1 11 13  5  9  4  4  2  2]\n"
     ]
    }
   ],
   "source": [
    "ej_2=np.random.randint(1,21,30)\n",
    "print(ej_2)\n",
    "print('------------')\n",
    "#No estamos seguras de si se refiere a empezar en el índice 1 o los impares empezando desde el 0\n",
    "print(ej_2[::2])\n",
    "print('------------')\n",
    "print(ej_2[1::2])"
   ]
  },
  {
   "cell_type": "markdown",
   "metadata": {},
   "source": [
    "3. Crea un array 2D de forma (4, 6) con números aleatorios decimales (no deben estar comprendidos solo entre 0 y 1). Accede a la última fila de la matriz. Los decimales deben estar redondeados a 2 decimales."
   ]
  },
  {
   "cell_type": "code",
   "execution_count": 20,
   "metadata": {},
   "outputs": [
    {
     "name": "stdout",
     "output_type": "stream",
     "text": [
      "[[1.308898   1.17220747 2.48792079 1.16097359 0.79611882 1.51572498]\n",
      " [0.31966978 0.75788587 0.01947728 2.34192529 0.80619376 1.62449173]\n",
      " [1.7048666  2.48387286 2.84458421 2.59895493 1.36860986 2.5799569 ]\n",
      " [0.94951327 0.42522066 1.56370766 0.71641285 2.11336554 0.22012662]]\n",
      "------------\n",
      "[[0.95 0.43 1.56 0.72 2.11 0.22]]\n",
      "------------\n",
      "[20 20 20  9  5  4  1 11 13  5  9  4  4  2  2]\n"
     ]
    }
   ],
   "source": [
    "ej_3=np.random.rand(4,6)*3\n",
    "print(ej_3)\n",
    "print('------------')\n",
    "print(np.round(ej_3[-1:],2))\n"
   ]
  },
  {
   "cell_type": "markdown",
   "metadata": {},
   "source": [
    "4.Crea un array NumPy 2D de forma (6, 4) con valores decimales entre 0 y 1. Accede a la segunda columna de la matriz. Los números deben estar redondeados a 2 decimales."
   ]
  },
  {
   "cell_type": "code",
   "execution_count": 34,
   "metadata": {},
   "outputs": [
    {
     "name": "stdout",
     "output_type": "stream",
     "text": [
      "[[0.65854632 0.15806306 0.62132609 0.24777853]\n",
      " [0.01442123 0.61658514 0.34851441 0.56097065]\n",
      " [0.60881468 0.56358725 0.47955142 0.50335716]\n",
      " [0.77961804 0.92351459 0.21968248 0.88800475]\n",
      " [0.14072396 0.0374803  0.61824672 0.58552968]\n",
      " [0.44253621 0.84384397 0.60554222 0.26361758]]\n",
      "------------\n",
      "[0.16 0.62 0.56 0.92 0.04 0.84]\n"
     ]
    }
   ],
   "source": [
    "ej_4=np.random.rand(6,4)\n",
    "print(ej_4)\n",
    "print('------------')\n",
    "print(np.round(ej_4[:,1],2))\n",
    "#print(ej_4[:,1])"
   ]
  },
  {
   "cell_type": "markdown",
   "metadata": {},
   "source": [
    "5. Crea un array 1D con 30 valores enteros aleatorios entre -50 y 50. Extrae los valores negativos."
   ]
  },
  {
   "cell_type": "code",
   "execution_count": 37,
   "metadata": {},
   "outputs": [
    {
     "name": "stdout",
     "output_type": "stream",
     "text": [
      "[ 18 -13  21  33  22 -32 -10  41 -31  -3  37   7 -24  23 -24  30 -30 -29\n",
      "  -7  -2   7   0   8  45  42 -24  12 -27  35 -14]\n",
      "------------\n",
      "[-13 -32 -10 -31  -3 -24 -24 -30 -29  -7  -2 -24 -27 -14]\n"
     ]
    }
   ],
   "source": [
    "ej_5=np.random.randint(-50,51,30)\n",
    "print(ej_5)\n",
    "print('------------')\n",
    "\n",
    "print(ej_5[ej_5<0])\n"
   ]
  },
  {
   "cell_type": "markdown",
   "metadata": {},
   "source": [
    "6. Crea un array 1D con 10 valores entre 0 y 1. Redondea los decimales a 2. Obtén los elementos cuyo valor es mayor que 0.5. ¿En que posición/es están esos elementos?"
   ]
  },
  {
   "cell_type": "code",
   "execution_count": 46,
   "metadata": {},
   "outputs": [
    {
     "name": "stdout",
     "output_type": "stream",
     "text": [
      "[0.32 0.86 0.31 0.38 0.83 0.09 0.93 0.48 0.71 0.46]\n",
      "------------\n",
      "(array([1, 4, 6, 8]),)\n"
     ]
    }
   ],
   "source": [
    "ej_6=np.random.rand(10)\n",
    "print(np.round(ej_6,2))\n",
    "print('------------')\n",
    "print(np.where(ej_6>0.5))"
   ]
  },
  {
   "cell_type": "markdown",
   "metadata": {},
   "source": [
    "7. Crea un array 1D con 40 valores del 1 al 100 (ambos incluidos). Obtén los elementos que son divisibles por 3 y por 4."
   ]
  },
  {
   "cell_type": "code",
   "execution_count": 50,
   "metadata": {},
   "outputs": [
    {
     "name": "stdout",
     "output_type": "stream",
     "text": [
      "[47 17 86  4  9 10 99 32 16 58 95 23 67 23 82 35 74 25 31 68 17 23 16 92\n",
      "  7 74  3 48 40 91 64 90 61 18 68 16  1 65 70 90]\n",
      "------------\n",
      "[48]\n"
     ]
    }
   ],
   "source": [
    "ej_7=np.random.randint(1,101,40)\n",
    "print(ej_7)\n",
    "print('------------')\n",
    "#No estamos seguras de si se refiere a empezar en el índice 5 o la quinta posición empezando desde el 0\n",
    "div_3=ej_7%3\n",
    "div_4=ej_7%4\n",
    "print(ej_7[(div_3==0) & (div_4==0)])\n"
   ]
  },
  {
   "cell_type": "markdown",
   "metadata": {},
   "source": [
    "BONUS: Crea un array 3D de forma (2, 3, 5) y 50 elementos con números enteros entre 0 y 100 (ambos incluidos). Reemplaza los elementos en posiciones múltiplos de 3 por 0."
   ]
  },
  {
   "cell_type": "markdown",
   "metadata": {},
   "source": [
    "## Reshape y Transpose:"
   ]
  },
  {
   "cell_type": "markdown",
   "metadata": {},
   "source": [
    "- Ejercicios con reshape"
   ]
  },
  {
   "cell_type": "markdown",
   "metadata": {},
   "source": [
    "1. Crea un array 3D de forma (2, 3, 4) con valores aleatorios entre 1 y 100 (ambos inclusive). Utiliza reshape para convertirlo en un array 2D. Deberás pensar en la forma que es correcta para hacer este cambio."
   ]
  },
  {
   "cell_type": "code",
   "execution_count": 52,
   "metadata": {},
   "outputs": [
    {
     "name": "stdout",
     "output_type": "stream",
     "text": [
      "[[[35 20 97 32]\n",
      "  [27  1 87 35]\n",
      "  [38  4  5 13]]\n",
      "\n",
      " [[61  9 56 14]\n",
      "  [59 40  2 47]\n",
      "  [19  9 61 21]]]\n",
      "-------------\n",
      "[[35 20 97 32 27  1]\n",
      " [87 35 38  4  5 13]\n",
      " [61  9 56 14 59 40]\n",
      " [ 2 47 19  9 61 21]]\n"
     ]
    }
   ],
   "source": [
    "ej_1=np.random.randint(1,101,(2,3,4))\n",
    "print(ej_1)\n",
    "print('-------------')\n",
    "print(np.reshape(ej_1,(4,6)))"
   ]
  },
  {
   "cell_type": "markdown",
   "metadata": {},
   "source": [
    "2. Crea un array 3D de forma (3, 4, 5) con valores enteros del 1 al 60 (sin incluir). Utiliza reshape para convertirlo en un array 2D."
   ]
  },
  {
   "cell_type": "code",
   "execution_count": 54,
   "metadata": {},
   "outputs": [
    {
     "name": "stdout",
     "output_type": "stream",
     "text": [
      "[[[ 9 41 44 31 58]\n",
      "  [ 8 42 34 57 44]\n",
      "  [28  6 40  8 55]\n",
      "  [ 1 14 22 31 32]]\n",
      "\n",
      " [[41 29 11 18 24]\n",
      "  [14  4 37 18 49]\n",
      "  [ 3  5 25  2 27]\n",
      "  [44 45 53 52 11]]\n",
      "\n",
      " [[30  1 49 15 59]\n",
      "  [30 24  4 47 47]\n",
      "  [17 19 21 47 51]\n",
      "  [ 9 45 28 38 49]]]\n",
      "-------------\n",
      "[[ 9 41 44 31 58  8 42 34 57 44 28  6]\n",
      " [40  8 55  1 14 22 31 32 41 29 11 18]\n",
      " [24 14  4 37 18 49  3  5 25  2 27 44]\n",
      " [45 53 52 11 30  1 49 15 59 30 24  4]\n",
      " [47 47 17 19 21 47 51  9 45 28 38 49]]\n"
     ]
    }
   ],
   "source": [
    "ej_2=np.random.randint(1,60,(3,4,5))\n",
    "print(ej_2)\n",
    "print('-------------')\n",
    "print(np.reshape(ej_2,(5,12)))"
   ]
  },
  {
   "cell_type": "markdown",
   "metadata": {},
   "source": [
    "3. Crea un array 3D de forma (4, 3, 2) con valores aleatorios entre 0 y 1. Utiliza reshape para convertirlo en un array 2D."
   ]
  },
  {
   "cell_type": "code",
   "execution_count": 56,
   "metadata": {},
   "outputs": [
    {
     "name": "stdout",
     "output_type": "stream",
     "text": [
      "[[[0.7300687  0.43686381]\n",
      "  [0.45353704 0.18741598]\n",
      "  [0.24991165 0.61458319]]\n",
      "\n",
      " [[0.40493075 0.90001818]\n",
      "  [0.90510401 0.42811643]\n",
      "  [0.50930435 0.23707426]]\n",
      "\n",
      " [[0.426319   0.35419289]\n",
      "  [0.02808988 0.90052601]\n",
      "  [0.5974216  0.9624655 ]]\n",
      "\n",
      " [[0.54147698 0.53757553]\n",
      "  [0.16806058 0.79487201]\n",
      "  [0.33753669 0.0060372 ]]]\n",
      "-------------\n",
      "[[0.7300687  0.43686381 0.45353704 0.18741598 0.24991165 0.61458319\n",
      "  0.40493075 0.90001818 0.90510401 0.42811643 0.50930435 0.23707426]\n",
      " [0.426319   0.35419289 0.02808988 0.90052601 0.5974216  0.9624655\n",
      "  0.54147698 0.53757553 0.16806058 0.79487201 0.33753669 0.0060372 ]]\n"
     ]
    }
   ],
   "source": [
    "ej_3=np.random.rand(4,3,2)\n",
    "print(ej_3)\n",
    "print('-------------')\n",
    "print(np.reshape(ej_3,(2,12)))"
   ]
  },
  {
   "cell_type": "markdown",
   "metadata": {},
   "source": [
    "- Ejercicios con transpose"
   ]
  },
  {
   "cell_type": "markdown",
   "metadata": {},
   "source": [
    "4. Utiliza el array 3D del ejercicio 2 de reshape. Utiliza transpose para permutar los ejes y obtener un nuevo array con forma (5, 4, 3)."
   ]
  },
  {
   "cell_type": "code",
   "execution_count": 59,
   "metadata": {},
   "outputs": [
    {
     "name": "stdout",
     "output_type": "stream",
     "text": [
      "[[[ 9 41 44 31 58]\n",
      "  [ 8 42 34 57 44]\n",
      "  [28  6 40  8 55]\n",
      "  [ 1 14 22 31 32]]\n",
      "\n",
      " [[41 29 11 18 24]\n",
      "  [14  4 37 18 49]\n",
      "  [ 3  5 25  2 27]\n",
      "  [44 45 53 52 11]]\n",
      "\n",
      " [[30  1 49 15 59]\n",
      "  [30 24  4 47 47]\n",
      "  [17 19 21 47 51]\n",
      "  [ 9 45 28 38 49]]]\n",
      "-------------\n",
      "[[[ 9 41 30]\n",
      "  [ 8 14 30]\n",
      "  [28  3 17]\n",
      "  [ 1 44  9]]\n",
      "\n",
      " [[41 29  1]\n",
      "  [42  4 24]\n",
      "  [ 6  5 19]\n",
      "  [14 45 45]]\n",
      "\n",
      " [[44 11 49]\n",
      "  [34 37  4]\n",
      "  [40 25 21]\n",
      "  [22 53 28]]\n",
      "\n",
      " [[31 18 15]\n",
      "  [57 18 47]\n",
      "  [ 8  2 47]\n",
      "  [31 52 38]]\n",
      "\n",
      " [[58 24 59]\n",
      "  [44 49 47]\n",
      "  [55 27 51]\n",
      "  [32 11 49]]]\n"
     ]
    }
   ],
   "source": [
    "print(ej_2)\n",
    "print('-------------')\n",
    "print(np.transpose(ej_2,(2,1,0)))"
   ]
  },
  {
   "cell_type": "markdown",
   "metadata": {},
   "source": [
    "5. Utiliza el array 3D del ejercicio 3 de reshape. Utiliza transpose para cambiar el orden de los ejes y obtener un nuevo array con forma (3, 2, 4)."
   ]
  },
  {
   "cell_type": "code",
   "execution_count": 61,
   "metadata": {},
   "outputs": [
    {
     "name": "stdout",
     "output_type": "stream",
     "text": [
      "[[[0.7300687  0.43686381]\n",
      "  [0.45353704 0.18741598]\n",
      "  [0.24991165 0.61458319]]\n",
      "\n",
      " [[0.40493075 0.90001818]\n",
      "  [0.90510401 0.42811643]\n",
      "  [0.50930435 0.23707426]]\n",
      "\n",
      " [[0.426319   0.35419289]\n",
      "  [0.02808988 0.90052601]\n",
      "  [0.5974216  0.9624655 ]]\n",
      "\n",
      " [[0.54147698 0.53757553]\n",
      "  [0.16806058 0.79487201]\n",
      "  [0.33753669 0.0060372 ]]]\n",
      "-------------\n",
      "[[[0.7300687  0.40493075 0.426319   0.54147698]\n",
      "  [0.43686381 0.90001818 0.35419289 0.53757553]]\n",
      "\n",
      " [[0.45353704 0.90510401 0.02808988 0.16806058]\n",
      "  [0.18741598 0.42811643 0.90052601 0.79487201]]\n",
      "\n",
      " [[0.24991165 0.50930435 0.5974216  0.33753669]\n",
      "  [0.61458319 0.23707426 0.9624655  0.0060372 ]]]\n"
     ]
    }
   ],
   "source": [
    "print(ej_3)\n",
    "print('-------------')\n",
    "print(np.transpose(ej_3,(1,2,0)))"
   ]
  },
  {
   "cell_type": "markdown",
   "metadata": {},
   "source": [
    "## Preguntas teóricas:"
   ]
  },
  {
   "cell_type": "markdown",
   "metadata": {},
   "source": [
    "6. ¿Qué diferencia existe entre el reshape y el transpose?\n",
    "\n",
    "El reshape, cambia la forma del array indicando la forma que quieres, mientras que el transpose la cambia utilizando las dimensiones previas cambiando el orden"
   ]
  },
  {
   "cell_type": "markdown",
   "metadata": {},
   "source": [
    "7. ¿Y entre el transpose y el swapaxes?\n",
    "\n",
    "El swapaxes sólo cambia 2 dimensiones entre ellas, los ejes."
   ]
  },
  {
   "cell_type": "markdown",
   "metadata": {},
   "source": [
    "## Funciones Aritméticas y Estadísticas:"
   ]
  },
  {
   "cell_type": "markdown",
   "metadata": {},
   "source": [
    "1. Crea un array de tres 3D con elementos entre el 0 y 1 de forma (2, 3, 5) cuyos valores solo tengan 1 decimal."
   ]
  },
  {
   "cell_type": "code",
   "execution_count": 62,
   "metadata": {},
   "outputs": [
    {
     "name": "stdout",
     "output_type": "stream",
     "text": [
      "[[[0.6 0.2 0.2 1.  0.4]\n",
      "  [0.1 0.  0.5 0.4 0.5]\n",
      "  [0.7 0.9 0.8 0.1 0.1]]\n",
      "\n",
      " [[0.3 0.6 0.6 0.6 0.1]\n",
      "  [0.5 0.8 0.7 0.6 0.8]\n",
      "  [0.8 0.9 0.7 0.  0.8]]]\n"
     ]
    }
   ],
   "source": [
    "ej_1=np.round(np.random.rand(2,3,5),1)\n",
    "print(ej_1)"
   ]
  },
  {
   "cell_type": "markdown",
   "metadata": {},
   "source": [
    "2. Crea un array vacío con la misma forma y dimensiones que el array creado anteriormente. Vamos a reemplazar los valores de la matriz vacía que nos acabamos de crear pero basándonos en los valores del primer array bajo las siguientes condiciones:\n",
    "- Si el valor del array es igual que la media, se reemplaza por \"A\".\n",
    "- Si el valor del array es mayor que la media, se reemplaza por \"B\".\n",
    "- Si el valor del array es menor que la media, se reemplaza por \"C\".\n",
    "- Si el valor es igual que el máximo, se reemplaza por \"D\".\n",
    "- Si el valor es igual que el mínimo, se reemplaza por \"E\"."
   ]
  },
  {
   "cell_type": "code",
   "execution_count": 65,
   "metadata": {},
   "outputs": [
    {
     "name": "stdout",
     "output_type": "stream",
     "text": [
      "[[[0.6 0.2 0.2 1.  0.4]\n",
      "  [0.1 0.  0.5 0.4 0.5]\n",
      "  [0.7 0.9 0.8 0.1 0.1]]\n",
      "\n",
      " [[0.3 0.6 0.6 0.6 0.1]\n",
      "  [0.5 0.8 0.7 0.6 0.8]\n",
      "  [0.8 0.9 0.7 0.  0.8]]]\n",
      "-----------\n",
      "[[[0.6 0.2 0.2 1.  0.4]\n",
      "  [0.1 0.  0.5 0.4 0.5]\n",
      "  [0.7 0.9 0.8 0.1 0.1]]\n",
      "\n",
      " [[0.3 0.6 0.6 0.6 0.1]\n",
      "  [0.5 0.8 0.7 0.6 0.8]\n",
      "  [0.8 0.9 0.7 0.  0.8]]]\n"
     ]
    }
   ],
   "source": [
    "ej_2=np.empty((2,3,5))\n",
    "print(ej_2)\n",
    "print('-----------')\n",
    "print(ej_1)"
   ]
  },
  {
   "cell_type": "markdown",
   "metadata": {},
   "source": [
    "- Si el valor del array es igual que la media, se reemplaza por \"A\".\n",
    "\n",
    "- Si el valor del array es menor que la media, se reemplaza por \"C\".\n",
    "- Si el valor es igual que el máximo, se reemplaza por \"D\".\n",
    "- Si el valor es igual que el mínimo, se reemplaza por \"E\"."
   ]
  },
  {
   "cell_type": "code",
   "execution_count": 69,
   "metadata": {},
   "outputs": [
    {
     "data": {
      "text/plain": [
       "0.5"
      ]
     },
     "execution_count": 69,
     "metadata": {},
     "output_type": "execute_result"
    }
   ],
   "source": [
    "np.round(np.mean(ej_1),1)"
   ]
  },
  {
   "cell_type": "code",
   "execution_count": 76,
   "metadata": {},
   "outputs": [
    {
     "name": "stdout",
     "output_type": "stream",
     "text": [
      "[[['0.6' '0.2' '0.2' '1.0' '0.4']\n",
      "  ['0.1' '0.0' 'A' '0.4' 'A']\n",
      "  ['0.7' '0.9' '0.8' '0.1' '0.1']]\n",
      "\n",
      " [['0.3' '0.6' '0.6' '0.6' '0.1']\n",
      "  ['A' '0.8' '0.7' '0.6' '0.8']\n",
      "  ['0.8' '0.9' '0.7' '0.0' '0.8']]]\n"
     ]
    },
    {
     "name": "stderr",
     "output_type": "stream",
     "text": [
      "/tmp/ipykernel_19942/1642116368.py:2: FutureWarning: elementwise comparison failed; returning scalar instead, but in the future will perform elementwise comparison\n",
      "  ej_2=np.where(ej_2==(np.round(np.mean(ej_1),1)),'A',ej_2)\n"
     ]
    }
   ],
   "source": [
    "#Si el valor del array es igual que la media, se reemplaza por \"A\".\n",
    "ej_2=np.where(ej_2==(np.round(np.mean(ej_1),1)),'A',ej_2)\n",
    "print(ej_2)"
   ]
  },
  {
   "cell_type": "code",
   "execution_count": 81,
   "metadata": {},
   "outputs": [
    {
     "ename": "UFuncTypeError",
     "evalue": "ufunc 'greater' did not contain a loop with signature matching types (<class 'numpy.dtype[str_]'>, <class 'numpy.dtype[float64]'>) -> <class 'numpy.dtype[bool_]'>",
     "output_type": "error",
     "traceback": [
      "\u001b[0;31m---------------------------------------------------------------------------\u001b[0m",
      "\u001b[0;31mUFuncTypeError\u001b[0m                            Traceback (most recent call last)",
      "\u001b[1;32m/mnt/c/Users/salsi/OneDrive/Escritorio/adalab/Módulo 3/Pair_numpy.ipynb Cell 42\u001b[0m line \u001b[0;36m3\n\u001b[1;32m      <a href='vscode-notebook-cell://wsl%2Bubuntu-18.04/mnt/c/Users/salsi/OneDrive/Escritorio/adalab/M%C3%B3dulo%203/Pair_numpy.ipynb#X60sdnNjb2RlLXJlbW90ZQ%3D%3D?line=0'>1</a>\u001b[0m \u001b[39m#- Si el valor del array es mayor que la media, se reemplaza por \"B\".\u001b[39;00m\n\u001b[1;32m      <a href='vscode-notebook-cell://wsl%2Bubuntu-18.04/mnt/c/Users/salsi/OneDrive/Escritorio/adalab/M%C3%B3dulo%203/Pair_numpy.ipynb#X60sdnNjb2RlLXJlbW90ZQ%3D%3D?line=1'>2</a>\u001b[0m media\u001b[39m=\u001b[39mnp\u001b[39m.\u001b[39mround(np\u001b[39m.\u001b[39mmean(ej_1),\u001b[39m1\u001b[39m)\n\u001b[0;32m----> <a href='vscode-notebook-cell://wsl%2Bubuntu-18.04/mnt/c/Users/salsi/OneDrive/Escritorio/adalab/M%C3%B3dulo%203/Pair_numpy.ipynb#X60sdnNjb2RlLXJlbW90ZQ%3D%3D?line=2'>3</a>\u001b[0m ej_2\u001b[39m=\u001b[39mnp\u001b[39m.\u001b[39mwhere(np\u001b[39m.\u001b[39;49mgreater(ej_2,media),\u001b[39m'\u001b[39m\u001b[39mB\u001b[39m\u001b[39m'\u001b[39m,ej_2)\n\u001b[1;32m      <a href='vscode-notebook-cell://wsl%2Bubuntu-18.04/mnt/c/Users/salsi/OneDrive/Escritorio/adalab/M%C3%B3dulo%203/Pair_numpy.ipynb#X60sdnNjb2RlLXJlbW90ZQ%3D%3D?line=3'>4</a>\u001b[0m \u001b[39mprint\u001b[39m(ej_2)\n",
      "\u001b[0;31mUFuncTypeError\u001b[0m: ufunc 'greater' did not contain a loop with signature matching types (<class 'numpy.dtype[str_]'>, <class 'numpy.dtype[float64]'>) -> <class 'numpy.dtype[bool_]'>"
     ]
    }
   ],
   "source": [
    "#- Si el valor del array es mayor que la media, se reemplaza por \"B\".\n",
    "media=np.round(np.mean(ej_1),1)\n",
    "ej_2=np.where(ej_2>media,'B',ej_2)\n",
    "print(ej_2)"
   ]
  }
 ],
 "metadata": {
  "kernelspec": {
   "display_name": "base",
   "language": "python",
   "name": "python3"
  },
  "language_info": {
   "codemirror_mode": {
    "name": "ipython",
    "version": 3
   },
   "file_extension": ".py",
   "mimetype": "text/x-python",
   "name": "python",
   "nbconvert_exporter": "python",
   "pygments_lexer": "ipython3",
   "version": "3.10.9"
  }
 },
 "nbformat": 4,
 "nbformat_minor": 2
}
